{
 "cells": [
  {
   "cell_type": "markdown",
   "id": "a9af747f",
   "metadata": {
    "papermill": {
     "duration": 0.007818,
     "end_time": "2022-08-02T21:34:31.656474",
     "exception": false,
     "start_time": "2022-08-02T21:34:31.648656",
     "status": "completed"
    },
    "tags": []
   },
   "source": [
    "# Predicting Kid-Friendly Nic Cage Movies\n",
    "\n",
    "Although most known for his thriller, action, and horror work that is aimed at adults, Nicolas Cage has also acted in several all-ages or kid's movies.\n",
    "\n",
    "For this notebook, I wanted to see if I could use the numerical features of the data set to predict whether a Nic Cage movie is kid-friendly (rated PG or PG-13) or not."
   ]
  },
  {
   "cell_type": "code",
   "execution_count": 1,
   "id": "0a0cf454",
   "metadata": {
    "execution": {
     "iopub.execute_input": "2022-08-02T21:34:31.671588Z",
     "iopub.status.busy": "2022-08-02T21:34:31.670889Z",
     "iopub.status.idle": "2022-08-02T21:34:31.683862Z",
     "shell.execute_reply": "2022-08-02T21:34:31.682747Z"
    },
    "papermill": {
     "duration": 0.023888,
     "end_time": "2022-08-02T21:34:31.686861",
     "exception": false,
     "start_time": "2022-08-02T21:34:31.662973",
     "status": "completed"
    },
    "tags": []
   },
   "outputs": [],
   "source": [
    "# Imports\n",
    "import os\n",
    "import numpy as np\n",
    "import pandas as pd"
   ]
  },
  {
   "cell_type": "code",
   "execution_count": 2,
   "id": "87e90f75",
   "metadata": {
    "execution": {
     "iopub.execute_input": "2022-08-02T21:34:31.703282Z",
     "iopub.status.busy": "2022-08-02T21:34:31.702252Z",
     "iopub.status.idle": "2022-08-02T21:34:31.722954Z",
     "shell.execute_reply": "2022-08-02T21:34:31.721680Z"
    },
    "papermill": {
     "duration": 0.031703,
     "end_time": "2022-08-02T21:34:31.725804",
     "exception": false,
     "start_time": "2022-08-02T21:34:31.694101",
     "status": "completed"
    },
    "tags": []
   },
   "outputs": [],
   "source": [
    "# Read in data set\n",
    "cage = pd.read_csv('../input/nic-cage-movies/nic-cage-through-2021.csv',encoding='Latin1')"
   ]
  },
  {
   "cell_type": "code",
   "execution_count": 3,
   "id": "6a52e8ee",
   "metadata": {
    "execution": {
     "iopub.execute_input": "2022-08-02T21:34:31.742041Z",
     "iopub.status.busy": "2022-08-02T21:34:31.741235Z",
     "iopub.status.idle": "2022-08-02T21:34:31.771309Z",
     "shell.execute_reply": "2022-08-02T21:34:31.770037Z"
    },
    "papermill": {
     "duration": 0.041323,
     "end_time": "2022-08-02T21:34:31.774140",
     "exception": false,
     "start_time": "2022-08-02T21:34:31.732817",
     "status": "completed"
    },
    "tags": []
   },
   "outputs": [
    {
     "data": {
      "text/html": [
       "<div>\n",
       "<style scoped>\n",
       "    .dataframe tbody tr th:only-of-type {\n",
       "        vertical-align: middle;\n",
       "    }\n",
       "\n",
       "    .dataframe tbody tr th {\n",
       "        vertical-align: top;\n",
       "    }\n",
       "\n",
       "    .dataframe thead th {\n",
       "        text-align: right;\n",
       "    }\n",
       "</style>\n",
       "<table border=\"1\" class=\"dataframe\">\n",
       "  <thead>\n",
       "    <tr style=\"text-align: right;\">\n",
       "      <th></th>\n",
       "      <th>Movie</th>\n",
       "      <th>Rating</th>\n",
       "      <th>Character</th>\n",
       "      <th>Voice</th>\n",
       "      <th>Year</th>\n",
       "      <th>RottenTomatoes</th>\n",
       "    </tr>\n",
       "  </thead>\n",
       "  <tbody>\n",
       "    <tr>\n",
       "      <th>0</th>\n",
       "      <td>Pig</td>\n",
       "      <td>R</td>\n",
       "      <td>Robin Feld</td>\n",
       "      <td>0</td>\n",
       "      <td>2021</td>\n",
       "      <td>97</td>\n",
       "    </tr>\n",
       "    <tr>\n",
       "      <th>1</th>\n",
       "      <td>Willy's Wonderland</td>\n",
       "      <td>NR</td>\n",
       "      <td>The Janitor</td>\n",
       "      <td>0</td>\n",
       "      <td>2021</td>\n",
       "      <td>61</td>\n",
       "    </tr>\n",
       "    <tr>\n",
       "      <th>2</th>\n",
       "      <td>Prisoners of the Ghostland</td>\n",
       "      <td>NR</td>\n",
       "      <td>Hero</td>\n",
       "      <td>0</td>\n",
       "      <td>2021</td>\n",
       "      <td>62</td>\n",
       "    </tr>\n",
       "    <tr>\n",
       "      <th>3</th>\n",
       "      <td>The Croods: A New Age</td>\n",
       "      <td>PG</td>\n",
       "      <td>Grug</td>\n",
       "      <td>1</td>\n",
       "      <td>2020</td>\n",
       "      <td>77</td>\n",
       "    </tr>\n",
       "    <tr>\n",
       "      <th>4</th>\n",
       "      <td>Jiu Jitsu</td>\n",
       "      <td>R</td>\n",
       "      <td>Wylie</td>\n",
       "      <td>0</td>\n",
       "      <td>2020</td>\n",
       "      <td>28</td>\n",
       "    </tr>\n",
       "    <tr>\n",
       "      <th>...</th>\n",
       "      <td>...</td>\n",
       "      <td>...</td>\n",
       "      <td>...</td>\n",
       "      <td>...</td>\n",
       "      <td>...</td>\n",
       "      <td>...</td>\n",
       "    </tr>\n",
       "    <tr>\n",
       "      <th>96</th>\n",
       "      <td>Racing with the Moon</td>\n",
       "      <td>PG</td>\n",
       "      <td>Nicky</td>\n",
       "      <td>0</td>\n",
       "      <td>1984</td>\n",
       "      <td>60</td>\n",
       "    </tr>\n",
       "    <tr>\n",
       "      <th>97</th>\n",
       "      <td>Rumble Fish</td>\n",
       "      <td>R</td>\n",
       "      <td>Smokey</td>\n",
       "      <td>0</td>\n",
       "      <td>1983</td>\n",
       "      <td>74</td>\n",
       "    </tr>\n",
       "    <tr>\n",
       "      <th>98</th>\n",
       "      <td>Valley Girl</td>\n",
       "      <td>R</td>\n",
       "      <td>Randy</td>\n",
       "      <td>0</td>\n",
       "      <td>1983</td>\n",
       "      <td>83</td>\n",
       "    </tr>\n",
       "    <tr>\n",
       "      <th>99</th>\n",
       "      <td>Fast Times at Ridgemont High</td>\n",
       "      <td>R</td>\n",
       "      <td>Brad's Bud</td>\n",
       "      <td>0</td>\n",
       "      <td>1982</td>\n",
       "      <td>78</td>\n",
       "    </tr>\n",
       "    <tr>\n",
       "      <th>100</th>\n",
       "      <td>The Best of Times</td>\n",
       "      <td>TV-NR</td>\n",
       "      <td>Nicholas</td>\n",
       "      <td>0</td>\n",
       "      <td>1981</td>\n",
       "      <td>X</td>\n",
       "    </tr>\n",
       "  </tbody>\n",
       "</table>\n",
       "<p>101 rows × 6 columns</p>\n",
       "</div>"
      ],
      "text/plain": [
       "                            Movie Rating    Character  Voice  Year  \\\n",
       "0                             Pig      R   Robin Feld      0  2021   \n",
       "1              Willy's Wonderland     NR  The Janitor      0  2021   \n",
       "2      Prisoners of the Ghostland     NR         Hero      0  2021   \n",
       "3           The Croods: A New Age     PG         Grug      1  2020   \n",
       "4                       Jiu Jitsu      R        Wylie      0  2020   \n",
       "..                            ...    ...          ...    ...   ...   \n",
       "96           Racing with the Moon     PG        Nicky      0  1984   \n",
       "97                    Rumble Fish      R       Smokey      0  1983   \n",
       "98                    Valley Girl      R        Randy      0  1983   \n",
       "99   Fast Times at Ridgemont High      R   Brad's Bud      0  1982   \n",
       "100             The Best of Times  TV-NR     Nicholas      0  1981   \n",
       "\n",
       "    RottenTomatoes  \n",
       "0               97  \n",
       "1               61  \n",
       "2               62  \n",
       "3               77  \n",
       "4               28  \n",
       "..             ...  \n",
       "96              60  \n",
       "97              74  \n",
       "98              83  \n",
       "99              78  \n",
       "100              X  \n",
       "\n",
       "[101 rows x 6 columns]"
      ]
     },
     "execution_count": 3,
     "metadata": {},
     "output_type": "execute_result"
    }
   ],
   "source": [
    "# Visualize data\n",
    "cage"
   ]
  },
  {
   "cell_type": "code",
   "execution_count": 4,
   "id": "8b22cf0b",
   "metadata": {
    "execution": {
     "iopub.execute_input": "2022-08-02T21:34:31.790044Z",
     "iopub.status.busy": "2022-08-02T21:34:31.789607Z",
     "iopub.status.idle": "2022-08-02T21:34:31.803067Z",
     "shell.execute_reply": "2022-08-02T21:34:31.802163Z"
    },
    "papermill": {
     "duration": 0.023755,
     "end_time": "2022-08-02T21:34:31.805283",
     "exception": false,
     "start_time": "2022-08-02T21:34:31.781528",
     "status": "completed"
    },
    "tags": []
   },
   "outputs": [
    {
     "data": {
      "text/plain": [
       "array(['R', 'NR', 'PG', 'TV-MA', 'PG-13', 'TV-NR'], dtype=object)"
      ]
     },
     "execution_count": 4,
     "metadata": {},
     "output_type": "execute_result"
    }
   ],
   "source": [
    "# See what unique ratings exist in the data set\n",
    "cage['Rating'].unique()"
   ]
  },
  {
   "cell_type": "markdown",
   "id": "b15b61c5",
   "metadata": {
    "papermill": {
     "duration": 0.007611,
     "end_time": "2022-08-02T21:34:31.819858",
     "exception": false,
     "start_time": "2022-08-02T21:34:31.812247",
     "status": "completed"
    },
    "tags": []
   },
   "source": [
    "## Visualizing ratings"
   ]
  },
  {
   "cell_type": "markdown",
   "id": "dedd3393",
   "metadata": {
    "papermill": {
     "duration": 0.006654,
     "end_time": "2022-08-02T21:34:31.833564",
     "exception": false,
     "start_time": "2022-08-02T21:34:31.826910",
     "status": "completed"
    },
    "tags": []
   },
   "source": [
    "First, I'm going to visualize all the ratings using matplotlib."
   ]
  },
  {
   "cell_type": "code",
   "execution_count": 5,
   "id": "c814cad6",
   "metadata": {
    "execution": {
     "iopub.execute_input": "2022-08-02T21:34:31.849091Z",
     "iopub.status.busy": "2022-08-02T21:34:31.848362Z",
     "iopub.status.idle": "2022-08-02T21:34:31.852573Z",
     "shell.execute_reply": "2022-08-02T21:34:31.851617Z"
    },
    "papermill": {
     "duration": 0.014716,
     "end_time": "2022-08-02T21:34:31.855040",
     "exception": false,
     "start_time": "2022-08-02T21:34:31.840324",
     "status": "completed"
    },
    "tags": []
   },
   "outputs": [],
   "source": [
    "# Import visualization libary\n",
    "import matplotlib.pyplot as plt"
   ]
  },
  {
   "cell_type": "code",
   "execution_count": 6,
   "id": "1ec207e7",
   "metadata": {
    "execution": {
     "iopub.execute_input": "2022-08-02T21:34:31.871334Z",
     "iopub.status.busy": "2022-08-02T21:34:31.870663Z",
     "iopub.status.idle": "2022-08-02T21:34:32.112471Z",
     "shell.execute_reply": "2022-08-02T21:34:32.111273Z"
    },
    "papermill": {
     "duration": 0.252923,
     "end_time": "2022-08-02T21:34:32.114873",
     "exception": false,
     "start_time": "2022-08-02T21:34:31.861950",
     "status": "completed"
    },
    "tags": []
   },
   "outputs": [
    {
     "data": {
      "image/png": "[encoded data removed]",
      "text/plain": [
       "<Figure size 432x288 with 1 Axes>"
      ]
     },
     "metadata": {
      "needs_background": "light"
     },
     "output_type": "display_data"
    }
   ],
   "source": [
    "cage_counts = pd.DataFrame(data=[cage[\"Rating\"].value_counts().keys(),cage['Rating'].value_counts()]).T\n",
    "cage_counts = cage_counts.rename(columns={0:'Rating',1:'Count'})\n",
    "#cage_counts\n",
    "\n",
    "fig, ax = plt.subplots()\n",
    "ax.bar(cage_counts['Rating'],cage_counts['Count'], linewidth=0.8, color=\"#CC5500\",edgecolor=\"black\",align='center')\n",
    "plt.suptitle('Nic Cage Movies per Rating')\n",
    "plt.show()"
   ]
  },
  {
   "cell_type": "markdown",
   "id": "e1ca8bab",
   "metadata": {
    "papermill": {
     "duration": 0.006746,
     "end_time": "2022-08-02T21:34:32.128674",
     "exception": false,
     "start_time": "2022-08-02T21:34:32.121928",
     "status": "completed"
    },
    "tags": []
   },
   "source": [
    "Next, I'm going to calculate the break down of what would be Kid-Friendly and what would not."
   ]
  },
  {
   "cell_type": "code",
   "execution_count": 7,
   "id": "54d2f3ed",
   "metadata": {
    "execution": {
     "iopub.execute_input": "2022-08-02T21:34:32.145474Z",
     "iopub.status.busy": "2022-08-02T21:34:32.144761Z",
     "iopub.status.idle": "2022-08-02T21:34:32.150459Z",
     "shell.execute_reply": "2022-08-02T21:34:32.149634Z"
    },
    "papermill": {
     "duration": 0.016741,
     "end_time": "2022-08-02T21:34:32.152606",
     "exception": false,
     "start_time": "2022-08-02T21:34:32.135865",
     "status": "completed"
    },
    "tags": []
   },
   "outputs": [],
   "source": [
    "# Make a new column indicating whether the movie is kid-friendly or not for kids\n",
    "# I am considering PG-13 to be kid-friendly, although I recognize this rating is\n",
    "# more suitable for older children\n",
    "\n",
    "# kf function to assess rating category and assign binary value\n",
    "def kf(df, m_rating):\n",
    "    if 'R' in m_rating or 'MA' in m_rating: \n",
    "        # this includes R, NR, TV-NR, etc. and also TV-MA\n",
    "        return 0\n",
    "    else:\n",
    "        # this includes PG, PG-13\n",
    "        return 1"
   ]
  },
  {
   "cell_type": "code",
   "execution_count": 8,
   "id": "46f49d2c",
   "metadata": {
    "execution": {
     "iopub.execute_input": "2022-08-02T21:34:32.167831Z",
     "iopub.status.busy": "2022-08-02T21:34:32.167421Z",
     "iopub.status.idle": "2022-08-02T21:34:32.210555Z",
     "shell.execute_reply": "2022-08-02T21:34:32.209395Z"
    },
    "papermill": {
     "duration": 0.053608,
     "end_time": "2022-08-02T21:34:32.212959",
     "exception": false,
     "start_time": "2022-08-02T21:34:32.159351",
     "status": "completed"
    },
    "tags": []
   },
   "outputs": [
    {
     "data": {
      "text/plain": [
       "0      0\n",
       "1      0\n",
       "2      0\n",
       "3      1\n",
       "4      0\n",
       "      ..\n",
       "96     1\n",
       "97     0\n",
       "98     0\n",
       "99     0\n",
       "100    0\n",
       "Name: KF, Length: 101, dtype: int64"
      ]
     },
     "execution_count": 8,
     "metadata": {},
     "output_type": "execute_result"
    }
   ],
   "source": [
    "cage['KF'] = [x for x in range(0,101)] # generate initial values to fill the\n",
    "# right length for the new column, KF\n",
    "for i in range(len(cage['KF'])):\n",
    "    cage.loc[i,'KF'] = kf(cage,cage['Rating'][i])\n",
    "    # use loc to assign binary 1 (for kids) or 0 (not for kids) per\n",
    "    # each index\n",
    "    \n",
    "cage['KF']"
   ]
  },
  {
   "cell_type": "code",
   "execution_count": 9,
   "id": "01b6c0d8",
   "metadata": {
    "execution": {
     "iopub.execute_input": "2022-08-02T21:34:32.231394Z",
     "iopub.status.busy": "2022-08-02T21:34:32.229101Z",
     "iopub.status.idle": "2022-08-02T21:34:32.247852Z",
     "shell.execute_reply": "2022-08-02T21:34:32.246705Z"
    },
    "papermill": {
     "duration": 0.029655,
     "end_time": "2022-08-02T21:34:32.250404",
     "exception": false,
     "start_time": "2022-08-02T21:34:32.220749",
     "status": "completed"
    },
    "tags": []
   },
   "outputs": [
    {
     "data": {
      "text/html": [
       "<div>\n",
       "<style scoped>\n",
       "    .dataframe tbody tr th:only-of-type {\n",
       "        vertical-align: middle;\n",
       "    }\n",
       "\n",
       "    .dataframe tbody tr th {\n",
       "        vertical-align: top;\n",
       "    }\n",
       "\n",
       "    .dataframe thead th {\n",
       "        text-align: right;\n",
       "    }\n",
       "</style>\n",
       "<table border=\"1\" class=\"dataframe\">\n",
       "  <thead>\n",
       "    <tr style=\"text-align: right;\">\n",
       "      <th></th>\n",
       "      <th>Movie</th>\n",
       "      <th>Rating</th>\n",
       "      <th>Character</th>\n",
       "      <th>Voice</th>\n",
       "      <th>Year</th>\n",
       "      <th>RottenTomatoes</th>\n",
       "      <th>KF</th>\n",
       "    </tr>\n",
       "  </thead>\n",
       "  <tbody>\n",
       "    <tr>\n",
       "      <th>0</th>\n",
       "      <td>Pig</td>\n",
       "      <td>R</td>\n",
       "      <td>Robin Feld</td>\n",
       "      <td>0</td>\n",
       "      <td>2021</td>\n",
       "      <td>97</td>\n",
       "      <td>0</td>\n",
       "    </tr>\n",
       "    <tr>\n",
       "      <th>1</th>\n",
       "      <td>Willy's Wonderland</td>\n",
       "      <td>NR</td>\n",
       "      <td>The Janitor</td>\n",
       "      <td>0</td>\n",
       "      <td>2021</td>\n",
       "      <td>61</td>\n",
       "      <td>0</td>\n",
       "    </tr>\n",
       "    <tr>\n",
       "      <th>2</th>\n",
       "      <td>Prisoners of the Ghostland</td>\n",
       "      <td>NR</td>\n",
       "      <td>Hero</td>\n",
       "      <td>0</td>\n",
       "      <td>2021</td>\n",
       "      <td>62</td>\n",
       "      <td>0</td>\n",
       "    </tr>\n",
       "    <tr>\n",
       "      <th>3</th>\n",
       "      <td>The Croods: A New Age</td>\n",
       "      <td>PG</td>\n",
       "      <td>Grug</td>\n",
       "      <td>1</td>\n",
       "      <td>2020</td>\n",
       "      <td>77</td>\n",
       "      <td>1</td>\n",
       "    </tr>\n",
       "    <tr>\n",
       "      <th>4</th>\n",
       "      <td>Jiu Jitsu</td>\n",
       "      <td>R</td>\n",
       "      <td>Wylie</td>\n",
       "      <td>0</td>\n",
       "      <td>2020</td>\n",
       "      <td>28</td>\n",
       "      <td>0</td>\n",
       "    </tr>\n",
       "    <tr>\n",
       "      <th>...</th>\n",
       "      <td>...</td>\n",
       "      <td>...</td>\n",
       "      <td>...</td>\n",
       "      <td>...</td>\n",
       "      <td>...</td>\n",
       "      <td>...</td>\n",
       "      <td>...</td>\n",
       "    </tr>\n",
       "    <tr>\n",
       "      <th>96</th>\n",
       "      <td>Racing with the Moon</td>\n",
       "      <td>PG</td>\n",
       "      <td>Nicky</td>\n",
       "      <td>0</td>\n",
       "      <td>1984</td>\n",
       "      <td>60</td>\n",
       "      <td>1</td>\n",
       "    </tr>\n",
       "    <tr>\n",
       "      <th>97</th>\n",
       "      <td>Rumble Fish</td>\n",
       "      <td>R</td>\n",
       "      <td>Smokey</td>\n",
       "      <td>0</td>\n",
       "      <td>1983</td>\n",
       "      <td>74</td>\n",
       "      <td>0</td>\n",
       "    </tr>\n",
       "    <tr>\n",
       "      <th>98</th>\n",
       "      <td>Valley Girl</td>\n",
       "      <td>R</td>\n",
       "      <td>Randy</td>\n",
       "      <td>0</td>\n",
       "      <td>1983</td>\n",
       "      <td>83</td>\n",
       "      <td>0</td>\n",
       "    </tr>\n",
       "    <tr>\n",
       "      <th>99</th>\n",
       "      <td>Fast Times at Ridgemont High</td>\n",
       "      <td>R</td>\n",
       "      <td>Brad's Bud</td>\n",
       "      <td>0</td>\n",
       "      <td>1982</td>\n",
       "      <td>78</td>\n",
       "      <td>0</td>\n",
       "    </tr>\n",
       "    <tr>\n",
       "      <th>100</th>\n",
       "      <td>The Best of Times</td>\n",
       "      <td>TV-NR</td>\n",
       "      <td>Nicholas</td>\n",
       "      <td>0</td>\n",
       "      <td>1981</td>\n",
       "      <td>X</td>\n",
       "      <td>0</td>\n",
       "    </tr>\n",
       "  </tbody>\n",
       "</table>\n",
       "<p>101 rows × 7 columns</p>\n",
       "</div>"
      ],
      "text/plain": [
       "                            Movie Rating    Character  Voice  Year  \\\n",
       "0                             Pig      R   Robin Feld      0  2021   \n",
       "1              Willy's Wonderland     NR  The Janitor      0  2021   \n",
       "2      Prisoners of the Ghostland     NR         Hero      0  2021   \n",
       "3           The Croods: A New Age     PG         Grug      1  2020   \n",
       "4                       Jiu Jitsu      R        Wylie      0  2020   \n",
       "..                            ...    ...          ...    ...   ...   \n",
       "96           Racing with the Moon     PG        Nicky      0  1984   \n",
       "97                    Rumble Fish      R       Smokey      0  1983   \n",
       "98                    Valley Girl      R        Randy      0  1983   \n",
       "99   Fast Times at Ridgemont High      R   Brad's Bud      0  1982   \n",
       "100             The Best of Times  TV-NR     Nicholas      0  1981   \n",
       "\n",
       "    RottenTomatoes  KF  \n",
       "0               97   0  \n",
       "1               61   0  \n",
       "2               62   0  \n",
       "3               77   1  \n",
       "4               28   0  \n",
       "..             ...  ..  \n",
       "96              60   1  \n",
       "97              74   0  \n",
       "98              83   0  \n",
       "99              78   0  \n",
       "100              X   0  \n",
       "\n",
       "[101 rows x 7 columns]"
      ]
     },
     "execution_count": 9,
     "metadata": {},
     "output_type": "execute_result"
    }
   ],
   "source": [
    "cage"
   ]
  },
  {
   "cell_type": "code",
   "execution_count": 10,
   "id": "de9aa011",
   "metadata": {
    "execution": {
     "iopub.execute_input": "2022-08-02T21:34:32.267249Z",
     "iopub.status.busy": "2022-08-02T21:34:32.266804Z",
     "iopub.status.idle": "2022-08-02T21:34:32.316604Z",
     "shell.execute_reply": "2022-08-02T21:34:32.315514Z"
    },
    "papermill": {
     "duration": 0.060608,
     "end_time": "2022-08-02T21:34:32.318899",
     "exception": false,
     "start_time": "2022-08-02T21:34:32.258291",
     "status": "completed"
    },
    "tags": []
   },
   "outputs": [
    {
     "data": {
      "text/html": [
       "<div>\n",
       "<style scoped>\n",
       "    .dataframe tbody tr th:only-of-type {\n",
       "        vertical-align: middle;\n",
       "    }\n",
       "\n",
       "    .dataframe tbody tr th {\n",
       "        vertical-align: top;\n",
       "    }\n",
       "\n",
       "    .dataframe thead th {\n",
       "        text-align: right;\n",
       "    }\n",
       "</style>\n",
       "<table border=\"1\" class=\"dataframe\">\n",
       "  <thead>\n",
       "    <tr style=\"text-align: right;\">\n",
       "      <th></th>\n",
       "      <th>Movie</th>\n",
       "      <th>Rating</th>\n",
       "      <th>Character</th>\n",
       "      <th>Voice</th>\n",
       "      <th>Year</th>\n",
       "      <th>RottenTomatoes</th>\n",
       "      <th>KF</th>\n",
       "      <th>Kid-Friendly</th>\n",
       "    </tr>\n",
       "  </thead>\n",
       "  <tbody>\n",
       "    <tr>\n",
       "      <th>0</th>\n",
       "      <td>Pig</td>\n",
       "      <td>R</td>\n",
       "      <td>Robin Feld</td>\n",
       "      <td>0</td>\n",
       "      <td>2021</td>\n",
       "      <td>97</td>\n",
       "      <td>0</td>\n",
       "      <td>Not Kid-Friendly</td>\n",
       "    </tr>\n",
       "    <tr>\n",
       "      <th>1</th>\n",
       "      <td>Willy's Wonderland</td>\n",
       "      <td>NR</td>\n",
       "      <td>The Janitor</td>\n",
       "      <td>0</td>\n",
       "      <td>2021</td>\n",
       "      <td>61</td>\n",
       "      <td>0</td>\n",
       "      <td>Not Kid-Friendly</td>\n",
       "    </tr>\n",
       "    <tr>\n",
       "      <th>2</th>\n",
       "      <td>Prisoners of the Ghostland</td>\n",
       "      <td>NR</td>\n",
       "      <td>Hero</td>\n",
       "      <td>0</td>\n",
       "      <td>2021</td>\n",
       "      <td>62</td>\n",
       "      <td>0</td>\n",
       "      <td>Not Kid-Friendly</td>\n",
       "    </tr>\n",
       "    <tr>\n",
       "      <th>3</th>\n",
       "      <td>The Croods: A New Age</td>\n",
       "      <td>PG</td>\n",
       "      <td>Grug</td>\n",
       "      <td>1</td>\n",
       "      <td>2020</td>\n",
       "      <td>77</td>\n",
       "      <td>1</td>\n",
       "      <td>Kid-Friendly</td>\n",
       "    </tr>\n",
       "    <tr>\n",
       "      <th>4</th>\n",
       "      <td>Jiu Jitsu</td>\n",
       "      <td>R</td>\n",
       "      <td>Wylie</td>\n",
       "      <td>0</td>\n",
       "      <td>2020</td>\n",
       "      <td>28</td>\n",
       "      <td>0</td>\n",
       "      <td>Not Kid-Friendly</td>\n",
       "    </tr>\n",
       "    <tr>\n",
       "      <th>...</th>\n",
       "      <td>...</td>\n",
       "      <td>...</td>\n",
       "      <td>...</td>\n",
       "      <td>...</td>\n",
       "      <td>...</td>\n",
       "      <td>...</td>\n",
       "      <td>...</td>\n",
       "      <td>...</td>\n",
       "    </tr>\n",
       "    <tr>\n",
       "      <th>96</th>\n",
       "      <td>Racing with the Moon</td>\n",
       "      <td>PG</td>\n",
       "      <td>Nicky</td>\n",
       "      <td>0</td>\n",
       "      <td>1984</td>\n",
       "      <td>60</td>\n",
       "      <td>1</td>\n",
       "      <td>Kid-Friendly</td>\n",
       "    </tr>\n",
       "    <tr>\n",
       "      <th>97</th>\n",
       "      <td>Rumble Fish</td>\n",
       "      <td>R</td>\n",
       "      <td>Smokey</td>\n",
       "      <td>0</td>\n",
       "      <td>1983</td>\n",
       "      <td>74</td>\n",
       "      <td>0</td>\n",
       "      <td>Not Kid-Friendly</td>\n",
       "    </tr>\n",
       "    <tr>\n",
       "      <th>98</th>\n",
       "      <td>Valley Girl</td>\n",
       "      <td>R</td>\n",
       "      <td>Randy</td>\n",
       "      <td>0</td>\n",
       "      <td>1983</td>\n",
       "      <td>83</td>\n",
       "      <td>0</td>\n",
       "      <td>Not Kid-Friendly</td>\n",
       "    </tr>\n",
       "    <tr>\n",
       "      <th>99</th>\n",
       "      <td>Fast Times at Ridgemont High</td>\n",
       "      <td>R</td>\n",
       "      <td>Brad's Bud</td>\n",
       "      <td>0</td>\n",
       "      <td>1982</td>\n",
       "      <td>78</td>\n",
       "      <td>0</td>\n",
       "      <td>Not Kid-Friendly</td>\n",
       "    </tr>\n",
       "    <tr>\n",
       "      <th>100</th>\n",
       "      <td>The Best of Times</td>\n",
       "      <td>TV-NR</td>\n",
       "      <td>Nicholas</td>\n",
       "      <td>0</td>\n",
       "      <td>1981</td>\n",
       "      <td>X</td>\n",
       "      <td>0</td>\n",
       "      <td>Not Kid-Friendly</td>\n",
       "    </tr>\n",
       "  </tbody>\n",
       "</table>\n",
       "<p>101 rows × 8 columns</p>\n",
       "</div>"
      ],
      "text/plain": [
       "                            Movie Rating    Character  Voice  Year  \\\n",
       "0                             Pig      R   Robin Feld      0  2021   \n",
       "1              Willy's Wonderland     NR  The Janitor      0  2021   \n",
       "2      Prisoners of the Ghostland     NR         Hero      0  2021   \n",
       "3           The Croods: A New Age     PG         Grug      1  2020   \n",
       "4                       Jiu Jitsu      R        Wylie      0  2020   \n",
       "..                            ...    ...          ...    ...   ...   \n",
       "96           Racing with the Moon     PG        Nicky      0  1984   \n",
       "97                    Rumble Fish      R       Smokey      0  1983   \n",
       "98                    Valley Girl      R        Randy      0  1983   \n",
       "99   Fast Times at Ridgemont High      R   Brad's Bud      0  1982   \n",
       "100             The Best of Times  TV-NR     Nicholas      0  1981   \n",
       "\n",
       "    RottenTomatoes  KF      Kid-Friendly  \n",
       "0               97   0  Not Kid-Friendly  \n",
       "1               61   0  Not Kid-Friendly  \n",
       "2               62   0  Not Kid-Friendly  \n",
       "3               77   1      Kid-Friendly  \n",
       "4               28   0  Not Kid-Friendly  \n",
       "..             ...  ..               ...  \n",
       "96              60   1      Kid-Friendly  \n",
       "97              74   0  Not Kid-Friendly  \n",
       "98              83   0  Not Kid-Friendly  \n",
       "99              78   0  Not Kid-Friendly  \n",
       "100              X   0  Not Kid-Friendly  \n",
       "\n",
       "[101 rows x 8 columns]"
      ]
     },
     "execution_count": 10,
     "metadata": {},
     "output_type": "execute_result"
    }
   ],
   "source": [
    "cage_kf = cage # Make a copy\n",
    "cage_kf['Kid-Friendly'] = [x for x in range(0,101)] # generate initial values to fill the\n",
    "# right length for the new column, Kid-Friendly\n",
    "for i in range(len(cage['KF'])):\n",
    "    if cage_kf.loc[i,'KF']==0:\n",
    "        cage_kf.loc[i,'Kid-Friendly'] = 'Not Kid-Friendly'\n",
    "    else:\n",
    "        cage_kf.loc[i,'Kid-Friendly'] = 'Kid-Friendly'\n",
    "        \n",
    "cage_kf"
   ]
  },
  {
   "cell_type": "markdown",
   "id": "8b528cf2",
   "metadata": {
    "papermill": {
     "duration": 0.014104,
     "end_time": "2022-08-02T21:34:32.345745",
     "exception": false,
     "start_time": "2022-08-02T21:34:32.331641",
     "status": "completed"
    },
    "tags": []
   },
   "source": [
    "It's also important to visualize the data as the two discrete categories I am using for binary classification: 'Kid-Friendly' and 'Not Kid-Friendly'"
   ]
  },
  {
   "cell_type": "code",
   "execution_count": 11,
   "id": "3477a1b3",
   "metadata": {
    "execution": {
     "iopub.execute_input": "2022-08-02T21:34:32.365387Z",
     "iopub.status.busy": "2022-08-02T21:34:32.364676Z",
     "iopub.status.idle": "2022-08-02T21:34:32.507440Z",
     "shell.execute_reply": "2022-08-02T21:34:32.506569Z"
    },
    "papermill": {
     "duration": 0.155244,
     "end_time": "2022-08-02T21:34:32.509949",
     "exception": false,
     "start_time": "2022-08-02T21:34:32.354705",
     "status": "completed"
    },
    "tags": []
   },
   "outputs": [
    {
     "data": {
      "image/png": "[encoded data removed]",
      "text/plain": [
       "<Figure size 432x288 with 1 Axes>"
      ]
     },
     "metadata": {
      "needs_background": "light"
     },
     "output_type": "display_data"
    }
   ],
   "source": [
    "cage_counts_kf = pd.DataFrame(data=[cage_kf['Kid-Friendly'].value_counts().keys(),cage_kf['Kid-Friendly'].value_counts()]).T\n",
    "cage_counts_kf = cage_counts_kf.rename(columns={0:'KF',1:'Count'})\n",
    "\n",
    "fig, ax = plt.subplots()\n",
    "ax.bar(cage_counts_kf['KF'],cage_counts_kf['Count'], linewidth=0.8, color=\"#CC5500\",edgecolor=\"black\",align='center')\n",
    "plt.suptitle('Nic Cage Movies per Rating Category')\n",
    "plt.show()"
   ]
  },
  {
   "cell_type": "markdown",
   "id": "1e018b54",
   "metadata": {
    "papermill": {
     "duration": 0.007639,
     "end_time": "2022-08-02T21:34:32.525658",
     "exception": false,
     "start_time": "2022-08-02T21:34:32.518019",
     "status": "completed"
    },
    "tags": []
   },
   "source": [
    "## Prediction Using Machine Learning\n",
    "\n",
    "Now that I have explored the data, I see that there are about twice as many \"Not Kid-Friendly\" movies. This means that my categories are not of equal size. Still, I'm going to test out a few models and see what fares well."
   ]
  },
  {
   "cell_type": "code",
   "execution_count": 12,
   "id": "d4d8d4d4",
   "metadata": {
    "execution": {
     "iopub.execute_input": "2022-08-02T21:34:32.543437Z",
     "iopub.status.busy": "2022-08-02T21:34:32.542713Z",
     "iopub.status.idle": "2022-08-02T21:34:34.030685Z",
     "shell.execute_reply": "2022-08-02T21:34:34.029758Z"
    },
    "papermill": {
     "duration": 1.499941,
     "end_time": "2022-08-02T21:34:34.033325",
     "exception": false,
     "start_time": "2022-08-02T21:34:32.533384",
     "status": "completed"
    },
    "tags": []
   },
   "outputs": [],
   "source": [
    "# Import machine learning classifiers, tools, and metrics\n",
    "import sklearn\n",
    "\n",
    "from sklearn.neighbors import KNeighborsClassifier\n",
    "neigh = KNeighborsClassifier(n_neighbors=2) \n",
    "\n",
    "from sklearn.naive_bayes import GaussianNB\n",
    "gnb = GaussianNB()\n",
    "\n",
    "from sklearn.ensemble import RandomForestClassifier\n",
    "clf = RandomForestClassifier(max_depth=5, random_state=123)\n",
    "\n",
    "from sklearn.model_selection import train_test_split\n",
    "\n",
    "# Import my desired metrics \n",
    "from sklearn.metrics import accuracy_score\n",
    "from sklearn.metrics import f1_score\n",
    "from sklearn.metrics import precision_score\n",
    "from sklearn.metrics import recall_score"
   ]
  },
  {
   "cell_type": "markdown",
   "id": "24abf704",
   "metadata": {
    "papermill": {
     "duration": 0.008626,
     "end_time": "2022-08-02T21:34:34.050109",
     "exception": false,
     "start_time": "2022-08-02T21:34:34.041483",
     "status": "completed"
    },
    "tags": []
   },
   "source": [
    "Now I'm going to pare down the data set to get rid of non-numeric data."
   ]
  },
  {
   "cell_type": "code",
   "execution_count": 13,
   "id": "170bcc41",
   "metadata": {
    "execution": {
     "iopub.execute_input": "2022-08-02T21:34:34.069556Z",
     "iopub.status.busy": "2022-08-02T21:34:34.067891Z",
     "iopub.status.idle": "2022-08-02T21:34:34.080752Z",
     "shell.execute_reply": "2022-08-02T21:34:34.079353Z"
    },
    "papermill": {
     "duration": 0.02538,
     "end_time": "2022-08-02T21:34:34.083617",
     "exception": false,
     "start_time": "2022-08-02T21:34:34.058237",
     "status": "completed"
    },
    "tags": []
   },
   "outputs": [],
   "source": [
    "# Define new data frame with only numerical data\n",
    "X = cage.drop('Movie',axis=1).reset_index(drop=True).drop('Rating',axis=1).reset_index(drop=True).drop('Character',axis=1).reset_index(drop=True).drop('Kid-Friendly',axis=1).reset_index(drop=True)"
   ]
  },
  {
   "cell_type": "code",
   "execution_count": 14,
   "id": "7eee78eb",
   "metadata": {
    "execution": {
     "iopub.execute_input": "2022-08-02T21:34:34.102416Z",
     "iopub.status.busy": "2022-08-02T21:34:34.101542Z",
     "iopub.status.idle": "2022-08-02T21:34:34.117763Z",
     "shell.execute_reply": "2022-08-02T21:34:34.116242Z"
    },
    "papermill": {
     "duration": 0.028641,
     "end_time": "2022-08-02T21:34:34.120432",
     "exception": false,
     "start_time": "2022-08-02T21:34:34.091791",
     "status": "completed"
    },
    "tags": []
   },
   "outputs": [
    {
     "data": {
      "text/html": [
       "<div>\n",
       "<style scoped>\n",
       "    .dataframe tbody tr th:only-of-type {\n",
       "        vertical-align: middle;\n",
       "    }\n",
       "\n",
       "    .dataframe tbody tr th {\n",
       "        vertical-align: top;\n",
       "    }\n",
       "\n",
       "    .dataframe thead th {\n",
       "        text-align: right;\n",
       "    }\n",
       "</style>\n",
       "<table border=\"1\" class=\"dataframe\">\n",
       "  <thead>\n",
       "    <tr style=\"text-align: right;\">\n",
       "      <th></th>\n",
       "      <th>Voice</th>\n",
       "      <th>Year</th>\n",
       "      <th>RottenTomatoes</th>\n",
       "      <th>KF</th>\n",
       "    </tr>\n",
       "  </thead>\n",
       "  <tbody>\n",
       "    <tr>\n",
       "      <th>0</th>\n",
       "      <td>0</td>\n",
       "      <td>2021</td>\n",
       "      <td>97</td>\n",
       "      <td>0</td>\n",
       "    </tr>\n",
       "    <tr>\n",
       "      <th>1</th>\n",
       "      <td>0</td>\n",
       "      <td>2021</td>\n",
       "      <td>61</td>\n",
       "      <td>0</td>\n",
       "    </tr>\n",
       "    <tr>\n",
       "      <th>2</th>\n",
       "      <td>0</td>\n",
       "      <td>2021</td>\n",
       "      <td>62</td>\n",
       "      <td>0</td>\n",
       "    </tr>\n",
       "    <tr>\n",
       "      <th>3</th>\n",
       "      <td>1</td>\n",
       "      <td>2020</td>\n",
       "      <td>77</td>\n",
       "      <td>1</td>\n",
       "    </tr>\n",
       "    <tr>\n",
       "      <th>4</th>\n",
       "      <td>0</td>\n",
       "      <td>2020</td>\n",
       "      <td>28</td>\n",
       "      <td>0</td>\n",
       "    </tr>\n",
       "    <tr>\n",
       "      <th>...</th>\n",
       "      <td>...</td>\n",
       "      <td>...</td>\n",
       "      <td>...</td>\n",
       "      <td>...</td>\n",
       "    </tr>\n",
       "    <tr>\n",
       "      <th>95</th>\n",
       "      <td>0</td>\n",
       "      <td>1984</td>\n",
       "      <td>77</td>\n",
       "      <td>0</td>\n",
       "    </tr>\n",
       "    <tr>\n",
       "      <th>96</th>\n",
       "      <td>0</td>\n",
       "      <td>1984</td>\n",
       "      <td>60</td>\n",
       "      <td>1</td>\n",
       "    </tr>\n",
       "    <tr>\n",
       "      <th>97</th>\n",
       "      <td>0</td>\n",
       "      <td>1983</td>\n",
       "      <td>74</td>\n",
       "      <td>0</td>\n",
       "    </tr>\n",
       "    <tr>\n",
       "      <th>98</th>\n",
       "      <td>0</td>\n",
       "      <td>1983</td>\n",
       "      <td>83</td>\n",
       "      <td>0</td>\n",
       "    </tr>\n",
       "    <tr>\n",
       "      <th>99</th>\n",
       "      <td>0</td>\n",
       "      <td>1982</td>\n",
       "      <td>78</td>\n",
       "      <td>0</td>\n",
       "    </tr>\n",
       "  </tbody>\n",
       "</table>\n",
       "<p>94 rows × 4 columns</p>\n",
       "</div>"
      ],
      "text/plain": [
       "    Voice  Year RottenTomatoes  KF\n",
       "0       0  2021             97   0\n",
       "1       0  2021             61   0\n",
       "2       0  2021             62   0\n",
       "3       1  2020             77   1\n",
       "4       0  2020             28   0\n",
       "..    ...   ...            ...  ..\n",
       "95      0  1984             77   0\n",
       "96      0  1984             60   1\n",
       "97      0  1983             74   0\n",
       "98      0  1983             83   0\n",
       "99      0  1982             78   0\n",
       "\n",
       "[94 rows x 4 columns]"
      ]
     },
     "execution_count": 14,
     "metadata": {},
     "output_type": "execute_result"
    }
   ],
   "source": [
    "# Drop films with no Rotten Tomatoes rating ('X' value)\n",
    "X = pd.DataFrame(X[X.RottenTomatoes!='X'])\n",
    "X"
   ]
  },
  {
   "cell_type": "code",
   "execution_count": 15,
   "id": "44709b2d",
   "metadata": {
    "execution": {
     "iopub.execute_input": "2022-08-02T21:34:34.139928Z",
     "iopub.status.busy": "2022-08-02T21:34:34.139106Z",
     "iopub.status.idle": "2022-08-02T21:34:34.145850Z",
     "shell.execute_reply": "2022-08-02T21:34:34.144547Z"
    },
    "papermill": {
     "duration": 0.019268,
     "end_time": "2022-08-02T21:34:34.148424",
     "exception": false,
     "start_time": "2022-08-02T21:34:34.129156",
     "status": "completed"
    },
    "tags": []
   },
   "outputs": [],
   "source": [
    "# Prepare a training and testing set using a 70%/30% split\n",
    "X_train, X_test, y_train, y_test = train_test_split(X, X['KF'], test_size=0.3, random_state=123)"
   ]
  },
  {
   "cell_type": "code",
   "execution_count": 16,
   "id": "3e62499c",
   "metadata": {
    "execution": {
     "iopub.execute_input": "2022-08-02T21:34:34.167431Z",
     "iopub.status.busy": "2022-08-02T21:34:34.166961Z",
     "iopub.status.idle": "2022-08-02T21:34:34.337212Z",
     "shell.execute_reply": "2022-08-02T21:34:34.335702Z"
    },
    "papermill": {
     "duration": 0.18273,
     "end_time": "2022-08-02T21:34:34.339899",
     "exception": false,
     "start_time": "2022-08-02T21:34:34.157169",
     "status": "completed"
    },
    "tags": []
   },
   "outputs": [],
   "source": [
    "# Generate preductions using KNN, Naive Bayes, and Random Forest models\n",
    "y_pred_knn = neigh.fit(X_train,y_train).predict(X_test)\n",
    "y_pred_gnb = gnb.fit(X_train, y_train).predict(X_test)\n",
    "y_pred_clf = clf.fit(X_train,y_train).predict(X_test)"
   ]
  },
  {
   "cell_type": "code",
   "execution_count": 17,
   "id": "0e9f6e7e",
   "metadata": {
    "execution": {
     "iopub.execute_input": "2022-08-02T21:34:34.360034Z",
     "iopub.status.busy": "2022-08-02T21:34:34.359165Z",
     "iopub.status.idle": "2022-08-02T21:34:34.369493Z",
     "shell.execute_reply": "2022-08-02T21:34:34.367909Z"
    },
    "papermill": {
     "duration": 0.023951,
     "end_time": "2022-08-02T21:34:34.373132",
     "exception": false,
     "start_time": "2022-08-02T21:34:34.349181",
     "status": "completed"
    },
    "tags": []
   },
   "outputs": [
    {
     "name": "stdout",
     "output_type": "stream",
     "text": [
      "KNN: Number of mislabeled points out of a total 29 points : 11\n",
      "Naive Bayes: Number of mislabeled points out of a total 29 points : 0\n",
      "Random Forest: Number of mislabeled points out of a total 29 points : 0\n"
     ]
    }
   ],
   "source": [
    "# Output how many points were mislabeled\n",
    "print(\"KNN: Number of mislabeled points out of a total %d points : %d\"% (X_test.shape[0], (y_test != y_pred_knn).sum()))\n",
    "print(\"Naive Bayes: Number of mislabeled points out of a total %d points : %d\"% (X_test.shape[0], (y_test != y_pred_gnb).sum()))\n",
    "print(\"Random Forest: Number of mislabeled points out of a total %d points : %d\"% (X_test.shape[0], (y_test != y_pred_clf).sum()))"
   ]
  },
  {
   "cell_type": "code",
   "execution_count": 18,
   "id": "7f852cc6",
   "metadata": {
    "execution": {
     "iopub.execute_input": "2022-08-02T21:34:34.394683Z",
     "iopub.status.busy": "2022-08-02T21:34:34.394265Z",
     "iopub.status.idle": "2022-08-02T21:34:34.401857Z",
     "shell.execute_reply": "2022-08-02T21:34:34.400571Z"
    },
    "papermill": {
     "duration": 0.020617,
     "end_time": "2022-08-02T21:34:34.404229",
     "exception": false,
     "start_time": "2022-08-02T21:34:34.383612",
     "status": "completed"
    },
    "tags": []
   },
   "outputs": [],
   "source": [
    "# Define the function outputMetrics to output desired metrics\n",
    "def outputMetrics(y_test,preds,alg):\n",
    "    print('Metrics for ' + str(alg))\n",
    "    # First, accuracy score\n",
    "    accuracy = accuracy_score(y_test, preds)\n",
    "    print('Accuracy: %.2f%%' % (accuracy * 100.0))\n",
    "    # Next, precision and recall\n",
    "    prec = precision_score(y_test,preds,average=\"binary\")\n",
    "    rec = recall_score(y_test,preds,average=\"binary\")\n",
    "    print('Precision: %.2f%%' % (prec * 100.0))\n",
    "    print('Recall: %.2f%%' % (rec * 100.0))\n",
    "    # Finally, F1 score\n",
    "    f_one = f1_score(y_test,preds,average=\"binary\")\n",
    "    print('F1: %.2f%%' % (f_one * 100.0))\n",
    "    print('*****')"
   ]
  },
  {
   "cell_type": "code",
   "execution_count": 19,
   "id": "6d983732",
   "metadata": {
    "execution": {
     "iopub.execute_input": "2022-08-02T21:34:34.423000Z",
     "iopub.status.busy": "2022-08-02T21:34:34.422594Z",
     "iopub.status.idle": "2022-08-02T21:34:34.441116Z",
     "shell.execute_reply": "2022-08-02T21:34:34.439570Z"
    },
    "papermill": {
     "duration": 0.030964,
     "end_time": "2022-08-02T21:34:34.443726",
     "exception": false,
     "start_time": "2022-08-02T21:34:34.412762",
     "status": "completed"
    },
    "tags": []
   },
   "outputs": [
    {
     "name": "stdout",
     "output_type": "stream",
     "text": [
      "Metrics for KNN\n",
      "Accuracy: 62.07%\n",
      "Precision: 71.43%\n",
      "Recall: 35.71%\n",
      "F1: 47.62%\n",
      "*****\n",
      "Metrics for Naive Bayes\n",
      "Accuracy: 100.00%\n",
      "Precision: 100.00%\n",
      "Recall: 100.00%\n",
      "F1: 100.00%\n",
      "*****\n",
      "Metrics for Random Forest\n",
      "Accuracy: 100.00%\n",
      "Precision: 100.00%\n",
      "Recall: 100.00%\n",
      "F1: 100.00%\n",
      "*****\n"
     ]
    }
   ],
   "source": [
    "# Iterate through list of predictions and corresponding list of algorithms used\n",
    "# for predictive models, then output desired metrics\n",
    "all_preds = [y_pred_knn, y_pred_gnb, y_pred_clf]\n",
    "all_algs = ['KNN', 'Naive Bayes', 'Random Forest']\n",
    "for i in range(0,3):\n",
    "    outputMetrics(y_test,all_preds[i],all_algs[i])"
   ]
  },
  {
   "cell_type": "markdown",
   "id": "12f53b04",
   "metadata": {
    "papermill": {
     "duration": 0.008683,
     "end_time": "2022-08-02T21:34:34.461037",
     "exception": false,
     "start_time": "2022-08-02T21:34:34.452354",
     "status": "completed"
    },
    "tags": []
   },
   "source": [
    "## Preliminary findings\n",
    "\n",
    "Both Naive Bayes and Random Forest are highly successful models. I would conclude that there is a pattern amongst time, ratings, and voice acting that suggests a Nic Cage movie would be friendly to kids."
   ]
  }
 ],
 "metadata": {
  "kernelspec": {
   "display_name": "Python 3",
   "language": "python",
   "name": "python3"
  },
  "language_info": {
   "codemirror_mode": {
    "name": "ipython",
    "version": 3
   },
   "file_extension": ".py",
   "mimetype": "text/x-python",
   "name": "python",
   "nbconvert_exporter": "python",
   "pygments_lexer": "ipython3",
   "version": "3.7.12"
  },
  "papermill": {
   "default_parameters": {},
   "duration": 16.214056,
   "end_time": "2022-08-02T21:34:38.009155",
   "environment_variables": {},
   "exception": null,
   "input_path": "__notebook__.ipynb",
   "output_path": "__notebook__.ipynb",
   "parameters": {},
   "start_time": "2022-08-02T21:34:21.795099",
   "version": "2.3.4"
  }
 },
 "nbformat": 4,
 "nbformat_minor": 5
}
